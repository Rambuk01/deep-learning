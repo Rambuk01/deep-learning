{
 "cells": [
  {
   "cell_type": "code",
   "execution_count": 1,
   "metadata": {},
   "outputs": [],
   "source": [
    "import torch\n",
    "import torch.nn  as  nn  \n",
    "import torch.optim as  optim\n",
    "from   torchvision import datasets,  transforms\n",
    "import seaborn as  sns   \n",
    "import matplotlib.pyplot as  plt   # Download the MNIST dataset\n"
   ]
  },
  {
   "cell_type": "code",
   "execution_count": null,
   "metadata": {},
   "outputs": [],
   "source": [
    "transform = transforms.ToTensor() \n",
    "train_dataset = datasets.MNIST(root   ='./data',  train=True   ,  download=True   , transform=transform) \n",
    "test_dataset = datasets.MNIST(root   ='./data',  train=False,  download=True   , transform=transform) \n",
    "train_loader = torch.utils.data.DataLoader(dataset=train_dataset, batch_size=64 ,  shuffle=True   ) \n",
    "test_loader = torch.utils.data.DataLoader(dataset=test_dataset, batch_size=64, shuffle=False)"
   ]
  },
  {
   "cell_type": "markdown",
   "metadata": {},
   "source": [
    "1.Regularization:\n",
    "    a.Add L1 regularization to the 2nd layer (the layer after the input layer)\n",
    "    b.Add L2 regularization instead on the 2nd layer. \n",
    "    c.What do you observe? (Hint: The lambda value used has a big impact on performance.)\n",
    "    d.What is the purpose of adding regularization?\n",
    "\n",
    "2.Dropout:\n",
    "    a.Add a dropout layer between the first and second layer. What do you observe?\n",
    "    b.What is the purpose of adding dropout?\n",
    "\n",
    "3.Layers:\n",
    "    a.Experiment with different amount of layers. What do you observe?\n",
    "    b.Experiment with different amount of neurons in each layer. What do you observe?\n",
    "\n",
    "4. Momentum:\n",
    "    a. Try to add momentum to the SGD optimizer. \n",
    "    b. Test different values of momentum. What value do you get the highest accuracy?\n",
    "    c. What happens if momentum is too high?"
   ]
  },
  {
   "cell_type": "code",
   "execution_count": 3,
   "metadata": {},
   "outputs": [
    {
     "name": "stdout",
     "output_type": "stream",
     "text": [
      "Shape of X [N, C, H, W]: torch.Size([64, 1, 28, 28])\n",
      "Shape of y: torch.Size([64]) torch.int64\n",
      "Using mps device\n"
     ]
    }
   ],
   "source": [
    "# CHECK SHAPE OF DATA INPUTS\n",
    "for X, y in test_loader:\n",
    "    print(f\"Shape of X [N, C, H, W]: {X.shape}\")\n",
    "    print(f\"Shape of y: {y.shape} {y.dtype}\")\n",
    "    break\n",
    "\n",
    "# Get cpu, gpu or mps device for training.\n",
    "device = (\n",
    "    \"cuda\"\n",
    "    if torch.cuda.is_available()\n",
    "    else \"mps\"\n",
    "    if torch.backends.mps.is_available()\n",
    "    else \"cpu\"\n",
    ")\n",
    "print(f\"Using {device} device\")\n"
   ]
  },
  {
   "cell_type": "code",
   "execution_count": null,
   "metadata": {},
   "outputs": [],
   "source": []
  },
  {
   "cell_type": "code",
   "execution_count": null,
   "metadata": {},
   "outputs": [],
   "source": [
    "\n",
    "# Define model\n",
    "class MyNetwork(nn.Module):\n",
    "    def __init__(self):\n",
    "        super(MyNetwork, self).__init__()\n",
    "        self.flatten = nn.Flatten();\n",
    "        self.fc1 = nn.Linear(in_features=28*28, out_features=500)\n",
    "        self.fc2 = nn.Linear(in_features=500, out_features=250)\n",
    "        self.fc3 = nn.Linear(in_features=250, out_features=125)\n",
    "        self.fc4 = nn.Linear(in_features=125, out_features=10)\n",
    "\n",
    "        self.relu = nn.ReLU()\n",
    "        \n",
    "    def forward(self, x):\n",
    "        x = self.flatten(x)\n",
    "        x = self.relu(self.fc1(x))\n",
    "        x = self.relu(self.fc2(x))\n",
    "        x = self.relu(self.fc3(x))\n",
    "        x = self.relu(self.fc4(x))\n",
    "        return x\n",
    "model = MyNetwork().to(device)\n",
    "print(model)\n"
   ]
  }
 ],
 "metadata": {
  "kernelspec": {
   "display_name": "env",
   "language": "python",
   "name": "python3"
  },
  "language_info": {
   "codemirror_mode": {
    "name": "ipython",
    "version": 3
   },
   "file_extension": ".py",
   "mimetype": "text/x-python",
   "name": "python",
   "nbconvert_exporter": "python",
   "pygments_lexer": "ipython3",
   "version": "3.11.5"
  }
 },
 "nbformat": 4,
 "nbformat_minor": 2
}
