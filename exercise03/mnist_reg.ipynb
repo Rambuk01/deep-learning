{
 "cells": [
  {
   "cell_type": "code",
   "execution_count": 134,
   "metadata": {},
   "outputs": [],
   "source": [
    "import torch\n",
    "import random\n",
    "import numpy as np\n",
    "import torch.nn  as  nn  \n",
    "import torch.optim as  optim\n",
    "from   torchvision import datasets,  transforms\n",
    "import seaborn as  sns   \n",
    "import matplotlib.pyplot as  plt   # Download the MNIST dataset\n"
   ]
  },
  {
   "cell_type": "code",
   "execution_count": 135,
   "metadata": {},
   "outputs": [
    {
     "data": {
      "text/plain": [
       "'\\ndef set_seed(seed):\\n    random.seed(seed)\\n    np.random.seed(seed)\\n    torch.manual_seed(seed)\\n    torch.cuda.manual_seed(seed)\\n    torch.cuda.manual_seed_all(seed)\\n    torch.backends.cudnn.deterministic = True\\n    torch.backends.cudnn.benchmark = False\\n\\n# Set the seed for reproducibility\\nset_seed(42)'"
      ]
     },
     "execution_count": 135,
     "metadata": {},
     "output_type": "execute_result"
    }
   ],
   "source": [
    "\"\"\"\n",
    "def set_seed(seed):\n",
    "    random.seed(seed)\n",
    "    np.random.seed(seed)\n",
    "    torch.manual_seed(seed)\n",
    "    torch.cuda.manual_seed(seed)\n",
    "    torch.cuda.manual_seed_all(seed)\n",
    "    torch.backends.cudnn.deterministic = True\n",
    "    torch.backends.cudnn.benchmark = False\n",
    "\n",
    "# Set the seed for reproducibility\n",
    "set_seed(42)\"\"\""
   ]
  },
  {
   "cell_type": "code",
   "execution_count": 136,
   "metadata": {},
   "outputs": [],
   "source": [
    "\n",
    "def test(dataloader, model, criterion):\n",
    "    size = len(dataloader.dataset)\n",
    "    num_batches = len(dataloader)\n",
    "    model.eval()\n",
    "    test_loss, correct = 0, 0\n",
    "    with torch.no_grad():\n",
    "        for X, y in dataloader:\n",
    "            X, y = X.to(device), y.to(device)\n",
    "            pred = model(X)\n",
    "            test_loss += criterion(pred, y).item()\n",
    "            correct += (pred.argmax(1) == y).type(torch.float).sum().item()\n",
    "    test_loss /= num_batches\n",
    "    correct /= size\n",
    "    print(f\"Test Error: \\n Accuracy: {(100*correct):>0.1f}%, Avg loss: {test_loss:>8f} \\n\")\n",
    "    return correct, test_loss\n",
    "\n",
    "\n",
    "def train(dataloader, model, criterion, optimizer):\n",
    "    size = len(dataloader.dataset)\n",
    "    model.train()\n",
    "    for batch, (X, y) in enumerate(dataloader):\n",
    "        X, y = X.to(device), y.to(device)\n",
    "\n",
    "        # Compute prediction error\n",
    "        pred = model(X)\n",
    "        loss = criterion(pred, y)\n",
    "\n",
    "\n",
    "        # Add regularisation\n",
    "        lamb = 0.001\n",
    "        loss += lamb * torch.norm(model.fc1.weight, p=2)\n",
    "\n",
    "        # Backpropagation\n",
    "        loss.backward()\n",
    "        optimizer.step()\n",
    "        optimizer.zero_grad()\n",
    "        \n",
    "        if batch % 100 == 0:\n",
    "            loss, current = loss.item(), (batch + 1) * len(X)\n",
    "            print(f\"loss: {loss:>7f}  [{current:>5d}/{size:>5d}]\")\n"
   ]
  },
  {
   "cell_type": "code",
   "execution_count": 137,
   "metadata": {},
   "outputs": [],
   "source": [
    "transform = transforms.ToTensor() \n",
    "train_dataset = datasets.MNIST(root   ='./data',  train=True   ,  download=True   , transform=transform) \n",
    "test_dataset = datasets.MNIST(root   ='./data',  train=False,  download=True   , transform=transform) \n",
    "train_loader = torch.utils.data.DataLoader(dataset=train_dataset, batch_size=64 ,  shuffle=True   ) \n",
    "test_loader = torch.utils.data.DataLoader(dataset=test_dataset, batch_size=64, shuffle=False)"
   ]
  },
  {
   "cell_type": "markdown",
   "metadata": {},
   "source": [
    "1.Regularization:\n",
    "    a.Add L1 regularization to the 2nd layer (the layer after the input layer)\n",
    "    b.Add L2 regularization instead on the 2nd layer. \n",
    "    c.What do you observe? (Hint: The lambda value used has a big impact on performance.)\n",
    "    d.What is the purpose of adding regularization?\n",
    "\n",
    "2.Dropout:\n",
    "    a.Add a dropout layer between the first and second layer. What do you observe?\n",
    "    b.What is the purpose of adding dropout?\n",
    "\n",
    "3.Layers:\n",
    "    a.Experiment with different amount of layers. What do you observe?\n",
    "    b.Experiment with different amount of neurons in each layer. What do you observe?\n",
    "\n",
    "4. Momentum:\n",
    "    a. Try to add momentum to the SGD optimizer. \n",
    "    b. Test different values of momentum. What value do you get the highest accuracy?\n",
    "    c. What happens if momentum is too high?"
   ]
  },
  {
   "cell_type": "code",
   "execution_count": 138,
   "metadata": {},
   "outputs": [
    {
     "name": "stdout",
     "output_type": "stream",
     "text": [
      "Shape of X [N, C, H, W]: torch.Size([64, 1, 28, 28])\n",
      "Shape of y: torch.Size([64]) torch.int64\n",
      "Using mps device\n"
     ]
    }
   ],
   "source": [
    "# CHECK SHAPE OF DATA INPUTS\n",
    "for X, y in test_loader:\n",
    "    print(f\"Shape of X [N, C, H, W]: {X.shape}\")\n",
    "    print(f\"Shape of y: {y.shape} {y.dtype}\")\n",
    "    break\n",
    "\n",
    "# Get cpu, gpu or mps device for training.\n",
    "device = (\n",
    "    \"cuda\"\n",
    "    if torch.cuda.is_available()\n",
    "    else \"mps\"\n",
    "    if torch.backends.mps.is_available()\n",
    "    else \"cpu\"\n",
    ")\n",
    "print(f\"Using {device} device\")\n"
   ]
  },
  {
   "cell_type": "code",
   "execution_count": 139,
   "metadata": {},
   "outputs": [
    {
     "name": "stdout",
     "output_type": "stream",
     "text": [
      "MyNetwork(\n",
      "  (flatten): Flatten(start_dim=1, end_dim=-1)\n",
      "  (fc1): Linear(in_features=784, out_features=128, bias=True)\n",
      "  (fc2): Linear(in_features=128, out_features=64, bias=True)\n",
      "  (fc3): Linear(in_features=64, out_features=10, bias=True)\n",
      "  (relu): ReLU()\n",
      ")\n"
     ]
    }
   ],
   "source": [
    "\n",
    "# Define model\n",
    "class MyNetwork(nn.Module):\n",
    "    def __init__(self):\n",
    "        super(MyNetwork, self).__init__()\n",
    "        self.fc1 = nn.Linear(in_features=28*28, out_features=128)\n",
    "        self.fc2 = nn.Linear(in_features=128, out_features=64)\n",
    "        self.fc3 = nn.Linear(in_features=64, out_features=10)\n",
    "\n",
    "        self.relu = nn.ReLU()\n",
    "        \n",
    "    def forward(self, x):\n",
    "        x = self.flatten(x)\n",
    "        x = self.relu(self.fc1(x))\n",
    "        x = self.relu(self.fc2(x))\n",
    "        x = self.relu(self.fc3(x))\n",
    "        return x\n",
    "model = MyNetwork().to(device)\n",
    "print(model)\n"
   ]
  },
  {
   "cell_type": "code",
   "execution_count": 140,
   "metadata": {},
   "outputs": [],
   "source": [
    "criterion = nn.CrossEntropyLoss()\n",
    "optimizer = torch.optim.Adam(model.parameters(), lr=0.001)"
   ]
  },
  {
   "cell_type": "code",
   "execution_count": 141,
   "metadata": {},
   "outputs": [
    {
     "name": "stdout",
     "output_type": "stream",
     "text": [
      "Epoch 1\n",
      "-------------------------------\n",
      "loss: 2.320030  [   64/60000]\n",
      "loss: 0.923547  [ 6464/60000]\n",
      "loss: 0.794327  [12864/60000]\n",
      "loss: 0.684940  [19264/60000]\n",
      "loss: 0.669987  [25664/60000]\n",
      "loss: 0.736530  [32064/60000]\n",
      "loss: 0.692249  [38464/60000]\n",
      "loss: 0.676076  [44864/60000]\n",
      "loss: 0.680729  [51264/60000]\n",
      "loss: 0.773888  [57664/60000]\n",
      "Test Error: \n",
      " Accuracy: 76.9%, Avg loss: 0.619817 \n",
      "\n",
      "Epoch 2\n",
      "-------------------------------\n",
      "loss: 0.638356  [   64/60000]\n",
      "loss: 0.583386  [ 6464/60000]\n",
      "loss: 0.540531  [12864/60000]\n",
      "loss: 0.338563  [19264/60000]\n",
      "loss: 0.619887  [25664/60000]\n",
      "loss: 0.566098  [32064/60000]\n",
      "loss: 0.494804  [38464/60000]\n",
      "loss: 0.493966  [44864/60000]\n",
      "loss: 0.699145  [51264/60000]\n",
      "loss: 0.618479  [57664/60000]\n",
      "Test Error: \n",
      " Accuracy: 78.1%, Avg loss: 0.564833 \n",
      "\n",
      "Epoch 3\n",
      "-------------------------------\n",
      "loss: 0.734811  [   64/60000]\n",
      "loss: 0.430279  [ 6464/60000]\n",
      "loss: 0.704967  [12864/60000]\n",
      "loss: 0.705394  [19264/60000]\n",
      "loss: 0.508748  [25664/60000]\n",
      "loss: 0.597586  [32064/60000]\n",
      "loss: 0.858568  [38464/60000]\n",
      "loss: 0.554410  [44864/60000]\n",
      "loss: 0.480407  [51264/60000]\n",
      "loss: 0.334581  [57664/60000]\n",
      "Test Error: \n",
      " Accuracy: 78.6%, Avg loss: 0.544052 \n",
      "\n"
     ]
    },
    {
     "data": {
      "image/png": "[encoded data removed]",
      "text/plain": [
       "<Figure size 640x480 with 1 Axes>"
      ]
     },
     "metadata": {},
     "output_type": "display_data"
    },
    {
     "name": "stdout",
     "output_type": "stream",
     "text": [
      "Done!\n"
     ]
    }
   ],
   "source": [
    "\n",
    "epochs = 3\n",
    "loss_values = []\n",
    "acc_values = []\n",
    "epochs_list = []\n",
    "for t in range(epochs):\n",
    "    print(f\"Epoch {t+1}\\n-------------------------------\")\n",
    "    train(train_loader, model, criterion, optimizer)\n",
    "    \n",
    "    acc, loss = test(test_loader, model, criterion)\n",
    "    loss_values.append(loss)\n",
    "    acc_values.append(acc)\n",
    "    epochs_list.append(t)\n",
    "\n",
    "plt.plot(epochs_list, loss_values, 'b', label='test loss')\n",
    "plt.plot(epochs_list, acc_values, 'r', label='acc')\n",
    "plt.title('Training and validation loss')\n",
    "plt.xlabel('Epochs')\n",
    "plt.ylabel('Loss')\n",
    "plt.legend()\n",
    "plt.show()\n",
    "print(\"Done!\")\n"
   ]
  }
 ],
 "metadata": {
  "kernelspec": {
   "display_name": "env",
   "language": "python",
   "name": "python3"
  },
  "language_info": {
   "codemirror_mode": {
    "name": "ipython",
    "version": 3
   },
   "file_extension": ".py",
   "mimetype": "text/x-python",
   "name": "python",
   "nbconvert_exporter": "python",
   "pygments_lexer": "ipython3",
   "version": "3.11.5"
  }
 },
 "nbformat": 4,
 "nbformat_minor": 2
}
