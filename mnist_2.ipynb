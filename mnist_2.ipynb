{
 "cells": [
  {
   "cell_type": "code",
   "execution_count": 3,
   "metadata": {},
   "outputs": [],
   "source": [
    "import torch\n",
    "import torch.nn  as  nn  \n",
    "import torch.optim as  optim\n",
    "from   torchvision import datasets,  transforms\n",
    "import seaborn as  sns   \n",
    "import matplotlib.pyplot as  plt   # Download the MNIST dataset\n",
    "\n",
    "transform = transforms.ToTensor() \n",
    "train_dataset = datasets.MNIST(root   ='./data',  train=True   ,  download=True   , transform=transform) \n",
    "test_dataset = datasets.MNIST(root   ='./data',  train=False,  download=True   , transform=transform) \n",
    "train_loader = torch.utils.data.DataLoader(dataset=train_dataset, batch_size=64 ,  shuffle=True   ) \n",
    "test_loader = torch.utils.data.DataLoader(dataset=test_dataset, batch_size=64, shuffle=False)\n",
    "\n"
   ]
  },
  {
   "cell_type": "code",
   "execution_count": 5,
   "metadata": {},
   "outputs": [],
   "source": [
    "class MyNetwork(nn.Module):\n",
    "    def __init__(self):\n",
    "        super(MyNetwork, self).__init__()\n",
    "        self.flatten = nn.Flatten();\n",
    "        self.fc1 = nn.Linear(in_features=28*28, out_features=20)\n",
    "        self.fc2 = nn.Linear(in_features=20, out_features=20)\n",
    "        self.fc3 = nn.Linear(in_features=20, out_features=20)\n",
    "        self.relu = nn.ReLU()\n",
    "        self.softmax = nn.Softmax(dim=1)\n",
    "    def forward(self, x):\n",
    "        x = self.flatten(x)\n",
    "        x = self.relu(self.fc1(x))\n",
    "        x = self.relu(self.fc2(x))\n",
    "        x = self.softmax(self.fc3(x))\n",
    "        return x\n",
    "net = MyNetwork()"
   ]
  },
  {
   "cell_type": "code",
   "execution_count": null,
   "metadata": {},
   "outputs": [],
   "source": []
  }
 ],
 "metadata": {
  "kernelspec": {
   "display_name": "env",
   "language": "python",
   "name": "python3"
  },
  "language_info": {
   "codemirror_mode": {
    "name": "ipython",
    "version": 3
   },
   "file_extension": ".py",
   "mimetype": "text/x-python",
   "name": "python",
   "nbconvert_exporter": "python",
   "pygments_lexer": "ipython3",
   "version": "3.11.5"
  }
 },
 "nbformat": 4,
 "nbformat_minor": 2
}
