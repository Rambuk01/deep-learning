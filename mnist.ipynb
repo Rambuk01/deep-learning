{
 "cells": [
  {
   "cell_type": "code",
   "execution_count": 28,
   "metadata": {},
   "outputs": [],
   "source": [
    "import torch\n",
    "import torch.nn  as  nn  \n",
    "import torch.optim as  optim\n",
    "from   torchvision import datasets,  transforms\n",
    "import seaborn as  sns   \n",
    "import matplotlib.pyplot as  plt   # Download the MNIST dataset\n",
    "\n",
    "transform = transforms.ToTensor() \n",
    "train_dataset = datasets.MNIST(root   ='./data',  train=True   ,  download=True   , transform=transform) \n",
    "test_dataset = datasets.MNIST(root   ='./data',  train=False,  download=True   , transform=transform) \n",
    "train_loader = torch.utils.data.DataLoader(dataset=train_dataset, batch_size=64 ,  shuffle=True   ) \n",
    "test_loader = torch.utils.data.DataLoader(dataset=test_dataset, batch_size=64, shuffle=False)"
   ]
  },
  {
   "cell_type": "markdown",
   "metadata": {},
   "source": [
    "1. Create a neural network: \n",
    "    a. Initialize 3 layers\n",
    "    b. Define the forward function:\n",
    "        i.  Reshape the data to a fully connected layer. Hint: Use .view() or .flatten().\n",
    "        ii. Let the input pass through the different layers.\n",
    "        iii.Consider what activation function you want to use in between the layers, and for the final layer.\n",
    "    c. Loss function and optimizer:\n",
    "        i.Consider what loss function and optimizer you want to use.\n",
    "    d. Create the training loop: e.Create the evaluation loop:\n",
    "    f. Save the model\n",
    "\n",
    "2. Report your accuracy, is this satisfactory? Why / why not?\n",
    "3. Plot the loss curve."
   ]
  },
  {
   "cell_type": "code",
   "execution_count": 29,
   "metadata": {},
   "outputs": [
    {
     "name": "stdout",
     "output_type": "stream",
     "text": [
      "Shape of X [N, C, H, W]: torch.Size([64, 1, 28, 28])\n",
      "Shape of y: torch.Size([64]) torch.int64\n"
     ]
    }
   ],
   "source": [
    "for X, y in test_loader:\n",
    "    print(f\"Shape of X [N, C, H, W]: {X.shape}\")\n",
    "    print(f\"Shape of y: {y.shape} {y.dtype}\")\n",
    "    break"
   ]
  },
  {
   "cell_type": "code",
   "execution_count": 30,
   "metadata": {},
   "outputs": [
    {
     "name": "stdout",
     "output_type": "stream",
     "text": [
      "Using mps device\n"
     ]
    }
   ],
   "source": [
    "# Get cpu, gpu or mps device for training.\n",
    "device = (\n",
    "    \"cuda\"\n",
    "    if torch.cuda.is_available()\n",
    "    else \"mps\"\n",
    "    if torch.backends.mps.is_available()\n",
    "    else \"cpu\"\n",
    ")\n",
    "print(f\"Using {device} device\")"
   ]
  },
  {
   "cell_type": "code",
   "execution_count": 21,
   "metadata": {},
   "outputs": [
    {
     "name": "stdout",
     "output_type": "stream",
     "text": [
      "NeuralNetwork(\n",
      "  (flatten): Flatten(start_dim=1, end_dim=-1)\n",
      "  (linear_relu_stack): Sequential(\n",
      "    (0): Linear(in_features=784, out_features=512, bias=True)\n",
      "    (1): ReLU()\n",
      "    (2): Linear(in_features=512, out_features=512, bias=True)\n",
      "    (3): ReLU()\n",
      "    (4): Linear(in_features=512, out_features=10, bias=True)\n",
      "  )\n",
      ")\n"
     ]
    }
   ],
   "source": [
    "# Define model\n",
    "class NeuralNetwork(nn.Module):\n",
    "    def __init__(self):\n",
    "        super().__init__()\n",
    "        self.flatten = nn.Flatten()\n",
    "        self.linear_relu_stack = nn.Sequential(\n",
    "            nn.Linear(784, 512),\n",
    "            nn.ReLU(),\n",
    "            nn.Linear(512, 512),\n",
    "            nn.ReLU(),\n",
    "            nn.Linear(512, 10)\n",
    "        )\n",
    "\n",
    "    def forward(self, x):\n",
    "        x = self.flatten(x)\n",
    "        x = self.relu(self.fc1(x))\n",
    "        x = self.relu(self.fc2(x))\n",
    "        x = self.softmax(self.fc3(x))\n",
    "        return x\n",
    "        \"\"\"\n",
    "        x = self.flatten(x)\n",
    "        logits = self.linear_relu_stack(x)\n",
    "        return logits\"\"\"\n",
    "\n",
    "model = NeuralNetwork().to(device)\n",
    "print(model)"
   ]
  },
  {
   "cell_type": "code",
   "execution_count": 38,
   "metadata": {},
   "outputs": [
    {
     "name": "stdout",
     "output_type": "stream",
     "text": [
      "MyNetwork(\n",
      "  (flatten): Flatten(start_dim=1, end_dim=-1)\n",
      "  (fc1): Linear(in_features=784, out_features=20, bias=True)\n",
      "  (fc2): Linear(in_features=20, out_features=20, bias=True)\n",
      "  (fc3): Linear(in_features=20, out_features=10, bias=True)\n",
      "  (relu): ReLU()\n",
      "  (softmax): Softmax(dim=1)\n",
      ")\n"
     ]
    }
   ],
   "source": [
    "class MyNetwork(nn.Module):\n",
    "    def __init__(self):\n",
    "        super(MyNetwork, self).__init__()\n",
    "        self.flatten = nn.Flatten();\n",
    "        self.fc1 = nn.Linear(in_features=28*28, out_features=20)\n",
    "        self.fc2 = nn.Linear(in_features=20, out_features=20)\n",
    "        self.fc3 = nn.Linear(in_features=20, out_features=10)\n",
    "        self.relu = nn.ReLU()\n",
    "        self.softmax = nn.Softmax(dim=1)\n",
    "    def forward(self, x):\n",
    "        x = self.flatten(x)\n",
    "        x = self.relu(self.fc1(x))\n",
    "        x = self.relu(self.fc2(x))\n",
    "        x = self.softmax(self.fc3(x))\n",
    "        return x\n",
    "model = MyNetwork().to(device)\n",
    "print(model)"
   ]
  },
  {
   "cell_type": "code",
   "execution_count": 39,
   "metadata": {},
   "outputs": [],
   "source": [
    "criterion = nn.CrossEntropyLoss()\n",
    "optimizer = torch.optim.SGD(model.parameters(), lr=0.001, momentum=0.9)"
   ]
  },
  {
   "cell_type": "code",
   "execution_count": 40,
   "metadata": {},
   "outputs": [],
   "source": [
    "def train(dataloader, model, criterion, optimizer):\n",
    "    size = len(dataloader.dataset)\n",
    "    model.train()\n",
    "    for batch, (X, y) in enumerate(dataloader):\n",
    "        X, y = X.to(device), y.to(device)\n",
    "\n",
    "        # Compute prediction error\n",
    "        pred = model(X)\n",
    "        loss = criterion(pred, y)\n",
    "\n",
    "        # Backpropagation\n",
    "        loss.backward()\n",
    "        optimizer.step()\n",
    "        optimizer.zero_grad()\n",
    "\n",
    "        if batch % 100 == 0:\n",
    "            loss, current = loss.item(), (batch + 1) * len(X)\n",
    "            print(f\"loss: {loss:>7f}  [{current:>5d}/{size:>5d}]\")"
   ]
  },
  {
   "cell_type": "code",
   "execution_count": 41,
   "metadata": {},
   "outputs": [],
   "source": [
    "def test(dataloader, model, criterion):\n",
    "    size = len(dataloader.dataset)\n",
    "    num_batches = len(dataloader)\n",
    "    model.eval()\n",
    "    test_loss, correct = 0, 0\n",
    "    with torch.no_grad():\n",
    "        for X, y in dataloader:\n",
    "            X, y = X.to(device), y.to(device)\n",
    "            pred = model(X)\n",
    "            test_loss += criterion(pred, y).item()\n",
    "            correct += (pred.argmax(1) == y).type(torch.float).sum().item()\n",
    "    test_loss /= num_batches\n",
    "    correct /= size\n",
    "    print(f\"Test Error: \\n Accuracy: {(100*correct):>0.1f}%, Avg loss: {test_loss:>8f} \\n\")"
   ]
  },
  {
   "cell_type": "code",
   "execution_count": 42,
   "metadata": {},
   "outputs": [
    {
     "name": "stdout",
     "output_type": "stream",
     "text": [
      "Epoch 1\n",
      "-------------------------------\n",
      "loss: 2.302135  [   64/60000]\n",
      "loss: 2.303326  [ 6464/60000]\n",
      "loss: 2.301812  [12864/60000]\n",
      "loss: 2.300762  [19264/60000]\n",
      "loss: 2.299221  [25664/60000]\n",
      "loss: 2.302434  [32064/60000]\n",
      "loss: 2.301721  [38464/60000]\n",
      "loss: 2.300074  [44864/60000]\n",
      "loss: 2.300256  [51264/60000]\n",
      "loss: 2.295749  [57664/60000]\n",
      "Test Error: \n",
      " Accuracy: 10.3%, Avg loss: 2.299705 \n",
      "\n",
      "Epoch 2\n",
      "-------------------------------\n",
      "loss: 2.300054  [   64/60000]\n",
      "loss: 2.299288  [ 6464/60000]\n",
      "loss: 2.298852  [12864/60000]\n",
      "loss: 2.300163  [19264/60000]\n",
      "loss: 2.298885  [25664/60000]\n",
      "loss: 2.296407  [32064/60000]\n",
      "loss: 2.298699  [38464/60000]\n",
      "loss: 2.299099  [44864/60000]\n",
      "loss: 2.296345  [51264/60000]\n",
      "loss: 2.293783  [57664/60000]\n",
      "Test Error: \n",
      " Accuracy: 15.2%, Avg loss: 2.295936 \n",
      "\n",
      "Epoch 3\n",
      "-------------------------------\n",
      "loss: 2.296736  [   64/60000]\n",
      "loss: 2.294695  [ 6464/60000]\n",
      "loss: 2.296567  [12864/60000]\n",
      "loss: 2.293051  [19264/60000]\n",
      "loss: 2.291348  [25664/60000]\n",
      "loss: 2.295338  [32064/60000]\n",
      "loss: 2.296403  [38464/60000]\n",
      "loss: 2.287246  [44864/60000]\n",
      "loss: 2.288217  [51264/60000]\n",
      "loss: 2.285341  [57664/60000]\n",
      "Test Error: \n",
      " Accuracy: 29.0%, Avg loss: 2.288408 \n",
      "\n",
      "Epoch 4\n",
      "-------------------------------\n",
      "loss: 2.288814  [   64/60000]\n",
      "loss: 2.289101  [ 6464/60000]\n",
      "loss: 2.280040  [12864/60000]\n",
      "loss: 2.282308  [19264/60000]\n",
      "loss: 2.280836  [25664/60000]\n",
      "loss: 2.280273  [32064/60000]\n",
      "loss: 2.284109  [38464/60000]\n",
      "loss: 2.274627  [44864/60000]\n",
      "loss: 2.262304  [51264/60000]\n",
      "loss: 2.265163  [57664/60000]\n",
      "Test Error: \n",
      " Accuracy: 36.2%, Avg loss: 2.266862 \n",
      "\n",
      "Done!\n"
     ]
    }
   ],
   "source": [
    "epochs = 4\n",
    "for t in range(epochs):\n",
    "    print(f\"Epoch {t+1}\\n-------------------------------\")\n",
    "    train(train_loader, model, criterion, optimizer)\n",
    "    test(test_loader, model, criterion)\n",
    "print(\"Done!\")"
   ]
  },
  {
   "cell_type": "code",
   "execution_count": 43,
   "metadata": {},
   "outputs": [],
   "source": [
    "PATH = 'model.pth'\n",
    "torch.save(model.state_dict(), PATH)\n"
   ]
  },
  {
   "cell_type": "code",
   "execution_count": null,
   "metadata": {},
   "outputs": [],
   "source": [
    "MyModel = MyNetwork()\n",
    "MyModel.load_state_dict(torch.load(PATH))\n",
    "MyModel.eval()\n"
   ]
  }
 ],
 "metadata": {
  "kernelspec": {
   "display_name": "env",
   "language": "python",
   "name": "python3"
  },
  "language_info": {
   "codemirror_mode": {
    "name": "ipython",
    "version": 3
   },
   "file_extension": ".py",
   "mimetype": "text/x-python",
   "name": "python",
   "nbconvert_exporter": "python",
   "pygments_lexer": "ipython3",
   "version": "3.11.5"
  }
 },
 "nbformat": 4,
 "nbformat_minor": 2
}
